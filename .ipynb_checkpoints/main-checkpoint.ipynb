{
 "cells": [
  {
   "cell_type": "code",
   "execution_count": 2,
   "id": "5a70f9ea",
   "metadata": {},
   "outputs": [],
   "source": [
    "import pandas as pd "
   ]
  },
  {
   "cell_type": "code",
   "execution_count": 3,
   "id": "f671c054",
   "metadata": {},
   "outputs": [],
   "source": [
    "file= 'datasets/wiki_movie_plots_deduped.csv'"
   ]
  },
  {
   "cell_type": "code",
   "execution_count": 4,
   "id": "199a52e1",
   "metadata": {},
   "outputs": [],
   "source": [
    "import lucene \n",
    "from org.apache.lucene.analysis.standard import StandardAnalyzer\n",
    "from org.apache.lucene.document import Document, Field, StringField, FieldType\n",
    "from org.apache.lucene.index import IndexWriter, IndexWriterConfig\n",
    "from org.apache.lucene.store import SimpleFSDirectory , FSDirectory "
   ]
  },
  {
   "cell_type": "code",
   "execution_count": 5,
   "id": "755a63fd",
   "metadata": {},
   "outputs": [
    {
     "data": {
      "text/plain": [
       "<jcc.JCCEnv at 0x7f81508f7b70>"
      ]
     },
     "execution_count": 5,
     "metadata": {},
     "output_type": "execute_result"
    }
   ],
   "source": [
    "lucene.initVM()#initializing the virtual machine to access the java packages  "
   ]
  },
  {
   "cell_type": "code",
   "execution_count": 9,
   "id": "5953781e",
   "metadata": {},
   "outputs": [],
   "source": [
    "from java.io import StringReader\n",
    "from org.apache.lucene.analysis.tokenattributes import CharTermAttribute\n",
    "from org.apache.lucene.analysis.en import EnglishAnalyzer \n",
    "from org.apache.lucene.analysis.core import WhitespaceAnalyzer, SimpleAnalyzer , StopAnalyzer "
   ]
  },
  {
   "cell_type": "code",
   "execution_count": 10,
   "id": "a6bf4e2c",
   "metadata": {},
   "outputs": [],
   "source": [
    "test = \"The quick brown fox jumps over a lazy dog\"\n",
    "analyzer = EnglishAnalyzer()\n"
   ]
  },
  {
   "cell_type": "code",
   "execution_count": 12,
   "id": "7b2612b2",
   "metadata": {},
   "outputs": [
    {
     "ename": "JavaError",
     "evalue": "<super: <class 'JavaError'>, <JavaError object>>\n    Java stacktrace:\njava.lang.IllegalStateException: TokenStream contract violation: close() call missing\n\tat org.apache.lucene.analysis.Tokenizer.setReader(Tokenizer.java:90)\n\tat org.apache.lucene.analysis.Analyzer$TokenStreamComponents.setReader(Analyzer.java:418)\n\tat org.apache.lucene.analysis.Analyzer$TokenStreamComponents.access$000(Analyzer.java:366)\n\tat org.apache.lucene.analysis.Analyzer.tokenStream(Analyzer.java:166)\n",
     "output_type": "error",
     "traceback": [
      "\u001b[0;31m---------------------------------------------------------------------------\u001b[0m",
      "\u001b[0;31mJavaError\u001b[0m                                 Traceback (most recent call last)",
      "Input \u001b[0;32mIn [12]\u001b[0m, in \u001b[0;36m<module>\u001b[0;34m\u001b[0m\n\u001b[0;32m----> 1\u001b[0m stream \u001b[38;5;241m=\u001b[39m \u001b[43manalyzer\u001b[49m\u001b[38;5;241;43m.\u001b[39;49m\u001b[43mtokenStream\u001b[49m\u001b[43m(\u001b[49m\u001b[38;5;124;43m\"\u001b[39;49m\u001b[38;5;124;43m\"\u001b[39;49m\u001b[43m,\u001b[49m\u001b[43m \u001b[49m\u001b[43mStringReader\u001b[49m\u001b[43m(\u001b[49m\u001b[43mtest\u001b[49m\u001b[43m)\u001b[49m\u001b[43m)\u001b[49m\n\u001b[1;32m      2\u001b[0m stream\u001b[38;5;241m.\u001b[39mreset()\n\u001b[1;32m      3\u001b[0m tokens \u001b[38;5;241m=\u001b[39m []\n",
      "\u001b[0;31mJavaError\u001b[0m: <super: <class 'JavaError'>, <JavaError object>>\n    Java stacktrace:\njava.lang.IllegalStateException: TokenStream contract violation: close() call missing\n\tat org.apache.lucene.analysis.Tokenizer.setReader(Tokenizer.java:90)\n\tat org.apache.lucene.analysis.Analyzer$TokenStreamComponents.setReader(Analyzer.java:418)\n\tat org.apache.lucene.analysis.Analyzer$TokenStreamComponents.access$000(Analyzer.java:366)\n\tat org.apache.lucene.analysis.Analyzer.tokenStream(Analyzer.java:166)\n"
     ]
    }
   ],
   "source": [
    "stream = analyzer.tokenStream(\"\", StringReader(test))\n",
    "stream.reset()\n",
    "tokens = []\n",
    "while stream.incrementToken():\n",
    "    tokens.append(stream.getAttribute(CharTermAttribute.class_).toString())\n",
    "\n",
    "stream.close()\n",
    "print(tokens)"
   ]
  },
  {
   "cell_type": "code",
   "execution_count": null,
   "id": "9957cb1a",
   "metadata": {},
   "outputs": [],
   "source": []
  }
 ],
 "metadata": {
  "kernelspec": {
   "display_name": "Python 3 (ipykernel)",
   "language": "python",
   "name": "python3"
  },
  "language_info": {
   "codemirror_mode": {
    "name": "ipython",
    "version": 3
   },
   "file_extension": ".py",
   "mimetype": "text/x-python",
   "name": "python",
   "nbconvert_exporter": "python",
   "pygments_lexer": "ipython3",
   "version": "3.8.10"
  }
 },
 "nbformat": 4,
 "nbformat_minor": 5
}
