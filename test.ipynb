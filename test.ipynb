{
 "cells": [
  {
   "cell_type": "code",
   "execution_count": 1,
   "id": "54611be2",
   "metadata": {},
   "outputs": [],
   "source": [
    "import pandas as pd \n",
    "file_path= 'datasets/wiki_movie_plots_deduped.csv'"
   ]
  },
  {
   "cell_type": "code",
   "execution_count": 3,
   "id": "111ebc0d",
   "metadata": {},
   "outputs": [],
   "source": [
    "import lucene \n",
    "from org.apache.lucene.analysis.standard import StandardAnalyzer\n",
    "from org.apache.lucene.document import Document, Field, StringField, FieldType\n",
    "from org.apache.lucene.index import IndexWriter, IndexWriterConfig\n",
    "from org.apache.lucene.store import SimpleFSDirectory , FSDirectory \n",
    "import org.apache.lucene.document as document\n",
    "from java.io import StringReader\n",
    "from org.apache.lucene.analysis.tokenattributes import CharTermAttribute\n",
    "from org.apache.lucene.analysis.en import EnglishAnalyzer \n",
    "from org.apache.lucene.analysis.core import WhitespaceAnalyzer, SimpleAnalyzer , StopAnalyzer "
   ]
  },
  {
   "cell_type": "code",
   "execution_count": 4,
   "id": "fe539d92",
   "metadata": {},
   "outputs": [
    {
     "data": {
      "text/plain": [
       "<jcc.JCCEnv at 0x7ff9618dc9f0>"
      ]
     },
     "execution_count": 4,
     "metadata": {},
     "output_type": "execute_result"
    }
   ],
   "source": [
    "lucene.initVM()#initializing the virtual machine to access the java packages  "
   ]
  },
  {
   "cell_type": "code",
   "execution_count": 5,
   "id": "ab5aa405",
   "metadata": {},
   "outputs": [
    {
     "data": {
      "text/plain": [
       "'datasets/wiki_movie_plots_deduped.csv'"
      ]
     },
     "execution_count": 5,
     "metadata": {},
     "output_type": "execute_result"
    }
   ],
   "source": [
    "file_path"
   ]
  },
  {
   "cell_type": "code",
   "execution_count": 6,
   "id": "726cc6e3",
   "metadata": {},
   "outputs": [],
   "source": [
    "df = pd.read_csv(file_path)"
   ]
  },
  {
   "cell_type": "code",
   "execution_count": 13,
   "id": "a1acb527",
   "metadata": {},
   "outputs": [],
   "source": [
    "test = df.Plot[1]"
   ]
  },
  {
   "cell_type": "code",
   "execution_count": 14,
   "id": "5bbf469e",
   "metadata": {},
   "outputs": [],
   "source": [
    "analyzer = EnglishAnalyzer()\n",
    "stream = analyzer.tokenStream(\"\", StringReader(test))\n",
    "stream.reset()\n",
    "tokens = []\n",
    "while stream.incrementToken():\n",
    "    tokens.append(stream.getAttribute(CharTermAttribute.class_).toString())"
   ]
  },
  {
   "cell_type": "code",
   "execution_count": 15,
   "id": "81502225",
   "metadata": {},
   "outputs": [
    {
     "data": {
      "text/plain": [
       "['moon',\n",
       " 'paint',\n",
       " 'smile',\n",
       " 'face',\n",
       " 'hang',\n",
       " 'over',\n",
       " 'park',\n",
       " 'night',\n",
       " 'young',\n",
       " 'coupl',\n",
       " 'walk',\n",
       " 'past',\n",
       " 'fenc',\n",
       " 'learn',\n",
       " 'rail',\n",
       " 'look',\n",
       " 'up',\n",
       " 'moon',\n",
       " 'smile',\n",
       " 'embrac',\n",
       " 'moon',\n",
       " 'smile',\n",
       " 'get',\n",
       " 'bigger',\n",
       " 'sit',\n",
       " 'down',\n",
       " 'bench',\n",
       " 'tree',\n",
       " 'moon',\n",
       " 'view',\n",
       " 'block',\n",
       " 'caus',\n",
       " 'him',\n",
       " 'frown',\n",
       " 'last',\n",
       " 'scene',\n",
       " 'man',\n",
       " 'fan',\n",
       " 'woman',\n",
       " 'hi',\n",
       " 'hat',\n",
       " 'becaus',\n",
       " 'moon',\n",
       " 'ha',\n",
       " 'left',\n",
       " 'sky',\n",
       " 'perch',\n",
       " 'over',\n",
       " 'her',\n",
       " 'shoulder',\n",
       " 'see',\n",
       " 'everyth',\n",
       " 'better']"
      ]
     },
     "execution_count": 15,
     "metadata": {},
     "output_type": "execute_result"
    }
   ],
   "source": [
    "tokens"
   ]
  },
  {
   "cell_type": "code",
   "execution_count": null,
   "id": "9cbb0f1d",
   "metadata": {},
   "outputs": [],
   "source": []
  }
 ],
 "metadata": {
  "kernelspec": {
   "display_name": "Python 3 (ipykernel)",
   "language": "python",
   "name": "python3"
  },
  "language_info": {
   "codemirror_mode": {
    "name": "ipython",
    "version": 3
   },
   "file_extension": ".py",
   "mimetype": "text/x-python",
   "name": "python",
   "nbconvert_exporter": "python",
   "pygments_lexer": "ipython3",
   "version": "3.8.10"
  }
 },
 "nbformat": 4,
 "nbformat_minor": 5
}
